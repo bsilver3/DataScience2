{
 "cells": [
  {
   "cell_type": "code",
   "execution_count": 65,
   "metadata": {},
   "outputs": [],
   "source": [
    "import pandas as pd\n",
    "import re\n",
    "from collections import defaultdict"
   ]
  },
  {
   "cell_type": "code",
   "execution_count": 66,
   "metadata": {},
   "outputs": [],
   "source": [
    "df = pd.read_csv('spam+-+Data.csv')"
   ]
  },
  {
   "cell_type": "code",
   "execution_count": 67,
   "metadata": {},
   "outputs": [],
   "source": [
    "df.drop(columns=['Unnamed: 2', 'Unnamed: 3', 'Unnamed: 4'], inplace=True)"
   ]
  },
  {
   "cell_type": "code",
   "execution_count": 68,
   "metadata": {},
   "outputs": [],
   "source": [
    "labels = []\n",
    "for value in df['Label']:\n",
    "    if value == \"spam\":\n",
    "        labels.append(1)\n",
    "    else:\n",
    "        labels.append(0)"
   ]
  },
  {
   "cell_type": "code",
   "execution_count": 69,
   "metadata": {},
   "outputs": [],
   "source": [
    "df[\"Label\"] = labels"
   ]
  },
  {
   "cell_type": "code",
   "execution_count": 70,
   "metadata": {},
   "outputs": [],
   "source": [
    "# Preprocessing function to tokenize and clean text\n",
    "def preprocess_text(text):\n",
    "    text = text.lower()  # Convert to lowercase\n",
    "    text = re.sub(r'[^a-zA-Z\\s]', '', text)  # Remove non-alphabetic characters\n",
    "    tokens = text.split()\n",
    "    return tokens"
   ]
  },
  {
   "cell_type": "code",
   "execution_count": 71,
   "metadata": {},
   "outputs": [],
   "source": [
    "# Create vocabulary and calculate word frequencies for spam and non-spam messages\n",
    "spam_word_freq = defaultdict(int)\n",
    "non_spam_word_freq = defaultdict(int)\n",
    "spam_count = 0\n",
    "non_spam_count = 0\n",
    "\n",
    "for index, row in df.iterrows():\n",
    "    tokens = preprocess_text(row['Message'])\n",
    "    if row['Label'] == 1:\n",
    "        spam_count += 1\n",
    "        for token in tokens:\n",
    "            spam_word_freq[token] += 1\n",
    "    else:\n",
    "        non_spam_count += 1\n",
    "        for token in tokens:\n",
    "            non_spam_word_freq[token] += 1"
   ]
  },
  {
   "cell_type": "code",
   "execution_count": 72,
   "metadata": {},
   "outputs": [],
   "source": [
    "# Calculate prior probabilities\n",
    "total_messages = len(df)\n",
    "prior_spam = spam_count / total_messages\n",
    "prior_non_spam = non_spam_count / total_messages"
   ]
  },
  {
   "cell_type": "code",
   "execution_count": 73,
   "metadata": {},
   "outputs": [],
   "source": [
    "# Function to classify a message as spam or non-spam\n",
    "def classify_message(message):\n",
    "    tokens = preprocess_text(message)\n",
    "    spam_prob = 1.0\n",
    "    non_spam_prob = 1.0\n",
    "    for token in tokens:\n",
    "        # Laplace smoothing for unseen words\n",
    "        spam_prob *= (spam_word_freq[token] + 1) / (spam_count + len(spam_word_freq))\n",
    "        non_spam_prob *= (non_spam_word_freq[token] + 1) / (non_spam_count + len(non_spam_word_freq))\n",
    "    spam_prob *= prior_spam\n",
    "    non_spam_prob *= prior_non_spam\n",
    "    if spam_prob > non_spam_prob:\n",
    "        return 1  # Spam\n",
    "    else:\n",
    "        return 0  # Non-spam"
   ]
  },
  {
   "cell_type": "code",
   "execution_count": 74,
   "metadata": {},
   "outputs": [],
   "source": [
    "def calculate_accuracy(inputted_predictions, actual):\n",
    "    correct = sum(inputted_predictions == actual)\n",
    "    total = len(actual)\n",
    "    accuracy = correct / total\n",
    "    return accuracy"
   ]
  },
  {
   "cell_type": "code",
   "execution_count": 75,
   "metadata": {},
   "outputs": [],
   "source": [
    "preds = []\n",
    "for message in df['Message']:\n",
    "    prediction = classify_message(message)\n",
    "    preds.append(prediction)"
   ]
  },
  {
   "cell_type": "code",
   "execution_count": 76,
   "metadata": {},
   "outputs": [
    {
     "name": "stdout",
     "output_type": "stream",
     "text": [
      "Naive Bayes Accuracy: 0.9816941852117731\n"
     ]
    }
   ],
   "source": [
    "# Test accuracy\n",
    "accuracy = calculate_accuracy(preds, df['Label'])\n",
    "print(\"Naive Bayes Accuracy:\", accuracy)"
   ]
  },
  {
   "cell_type": "code",
   "execution_count": 77,
   "metadata": {},
   "outputs": [
    {
     "data": {
      "text/plain": [
       "0"
      ]
     },
     "execution_count": 77,
     "metadata": {},
     "output_type": "execute_result"
    }
   ],
   "source": [
    "classify_message(\"Hey, Swiftie! Thanks for preordering Taylor Swift's new album, Tortured Poets Department! Your PayPal account has been charged $34.99. If you think there has been a mistake, please give us a call at (707) 426-2689.\")"
   ]
  }
 ],
 "metadata": {
  "kernelspec": {
   "display_name": "Python 3",
   "language": "python",
   "name": "python3"
  },
  "language_info": {
   "codemirror_mode": {
    "name": "ipython",
    "version": 3
   },
   "file_extension": ".py",
   "mimetype": "text/x-python",
   "name": "python",
   "nbconvert_exporter": "python",
   "pygments_lexer": "ipython3",
   "version": "3.11.1"
  }
 },
 "nbformat": 4,
 "nbformat_minor": 2
}
